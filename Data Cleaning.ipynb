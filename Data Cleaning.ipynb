{
 "cells": [
  {
   "cell_type": "code",
   "execution_count": 140,
   "id": "f683c5eb",
   "metadata": {},
   "outputs": [],
   "source": [
    "import pandas as pd\n",
    "from sklearn.preprocessing import StandardScaler\n",
    "from sklearn.impute import SimpleImputer\n",
    "from sklearn.preprocessing import OneHotEncoder\n",
    "from sklearn.pipeline import Pipeline\n",
    "from sklearn.compose import ColumnTransformer"
   ]
  },
  {
   "cell_type": "code",
   "execution_count": null,
   "id": "ee3bb0f0",
   "metadata": {},
   "outputs": [],
   "source": [
    "train = pd.read_csv('Data/training_set_features.csv',index_col='respondent_id')\n",
    "labels = pd.read_csv('Data/training_set_labels.csv',index_col='respondent_id')"
   ]
  },
  {
   "cell_type": "code",
   "execution_count": null,
   "id": "e442e25b",
   "metadata": {},
   "outputs": [],
   "source": [
    "joined_df = train.join(labels)"
   ]
  },
  {
   "cell_type": "code",
   "execution_count": null,
   "id": "d0288471",
   "metadata": {},
   "outputs": [],
   "source": [
    "seasonal_df = joined_df.drop(columns=[col for col in joined_df.columns if 'h1n1' in col],index=1).reset_index()\n",
    "seasonal_df = seasonal_df.drop(columns=['employment_industry','employment_occupation'])"
   ]
  },
  {
   "cell_type": "code",
   "execution_count": null,
   "id": "e8e66dea",
   "metadata": {},
   "outputs": [],
   "source": [
    "float_columns = seasonal_df.select_dtypes(include=['float64']).columns \n",
    "object_columns = seasonal_df.select_dtypes(include=['object']).columns \n",
    "int_columns = seasonal_df.select_dtypes(include=['int64']).columns "
   ]
  },
  {
   "cell_type": "code",
   "execution_count": null,
   "id": "5b052481",
   "metadata": {},
   "outputs": [],
   "source": [
    "df_clean_v1 = seasonal_df.dropna(subset=object_columns)\n",
    "\n",
    "for col in float_columns:\n",
    "    median = df_clean_v1[col].median()\n",
    "    df_clean_v1[col].fillna(median)"
   ]
  },
  {
   "cell_type": "code",
   "execution_count": null,
   "id": "bcdeeb86",
   "metadata": {},
   "outputs": [],
   "source": [
    "df_clean_v1.reset_index(drop=True)"
   ]
  }
 ],
 "metadata": {
  "kernelspec": {
   "display_name": "Python (learn-env)",
   "language": "python",
   "name": "learn-env"
  },
  "language_info": {
   "codemirror_mode": {
    "name": "ipython",
    "version": 3
   },
   "file_extension": ".py",
   "mimetype": "text/x-python",
   "name": "python",
   "nbconvert_exporter": "python",
   "pygments_lexer": "ipython3",
   "version": "3.11.5"
  }
 },
 "nbformat": 4,
 "nbformat_minor": 5
}
